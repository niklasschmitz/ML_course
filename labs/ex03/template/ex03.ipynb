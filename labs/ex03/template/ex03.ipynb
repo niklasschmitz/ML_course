{
 "cells": [
  {
   "cell_type": "code",
   "execution_count": null,
   "metadata": {},
   "outputs": [],
   "source": []
  },
  {
   "cell_type": "code",
   "execution_count": 4,
   "metadata": {},
   "outputs": [],
   "source": [
    "# Useful starting lines\n",
    "%matplotlib inline\n",
    "import numpy as np\n",
    "import matplotlib.pyplot as plt\n",
    "import seaborn as sns\n",
    "%load_ext autoreload\n",
    "%autoreload 2"
   ]
  },
  {
   "cell_type": "code",
   "execution_count": 5,
   "metadata": {},
   "outputs": [],
   "source": [
    "import sys\n",
    "sys.path.append('../../')\n",
    "sys.path.append('../../ex02/solution')"
   ]
  },
  {
   "cell_type": "markdown",
   "metadata": {},
   "source": [
    "# 1 Least squares and linear basis functions models\n",
    "## 1.1 Least squares"
   ]
  },
  {
   "cell_type": "code",
   "execution_count": 6,
   "metadata": {},
   "outputs": [],
   "source": [
    "from ex02.solution.costs import compute_loss, calculate_mse\n",
    "\n",
    "def least_squares(y, tx):\n",
    "    \"\"\"calculate the least squares solution.\"\"\"\n",
    "    # ***************************************************\n",
    "    # INSERT YOUR CODE HERE\n",
    "    # least squares: TODO\n",
    "    # returns mse, and optimal weights\n",
    "    # ***************************************************\n",
    "    \n",
    "    tx_gram = tx.T @ tx  # gram matrix\n",
    "    w = np.linalg.inv(tx_gram) @ (tx.T @ y)\n",
    "    \n",
    "    loss = compute_loss(y, tx, w)\n",
    "    \n",
    "    return loss, w"
   ]
  },
  {
   "cell_type": "markdown",
   "metadata": {},
   "source": [
    "### Load the data\n",
    "Here we will reuse the dataset `height_weight_genders.csv` from previous exercise section to check the correctness of your implementation. Please compare it with your previous result."
   ]
  },
  {
   "cell_type": "code",
   "execution_count": 7,
   "metadata": {},
   "outputs": [],
   "source": [
    "from helpers import *\n",
    "from ex02.solution.grid_search import *\n",
    "\n",
    "def test_your_least_squares():\n",
    "    height, weight, gender = load_data_from_ex02(sub_sample=False, add_outlier=False)\n",
    "    x, mean_x, std_x = standardize(height)\n",
    "    y, tx = build_model_data(x, weight)\n",
    "    # ***************************************************\n",
    "    # INSERT YOUR CODE HERE\n",
    "    # least square or grid search: TODO\n",
    "    # this code should compare the optimal weights obtained \n",
    "    # by least squares vs. grid search\n",
    "    # ***************************************************\n",
    "    \n",
    "    # grid search\n",
    "    w0, w1 = generate_w(num_intervals=100)\n",
    "    losses_on_grid = grid_search(y, tx, w0, w1)\n",
    "    loss_grid_search, w0, w1 = get_best_parameters(w0, w1, losses_on_grid)\n",
    "    w_grid_search = (w0, w1)\n",
    "    \n",
    "    # least squares\n",
    "    loss_least_squares, w_least_squares = least_squares(y, tx)\n",
    "        \n",
    "    return w_grid_search, w_least_squares"
   ]
  },
  {
   "cell_type": "markdown",
   "metadata": {},
   "source": [
    "Test it here"
   ]
  },
  {
   "cell_type": "code",
   "execution_count": 8,
   "metadata": {},
   "outputs": [],
   "source": [
    "w_grid_search, w_least_squares =  test_your_least_squares()"
   ]
  },
  {
   "cell_type": "markdown",
   "metadata": {},
   "source": [
    "good"
   ]
  },
  {
   "cell_type": "markdown",
   "metadata": {},
   "source": [
    "## 1.2 Least squares with a linear basis function model\n",
    "Start from this section, we will use the dataset `dataEx3.csv`.\n",
    "\n",
    "### Implement polynomial basis functions"
   ]
  },
  {
   "cell_type": "code",
   "execution_count": 9,
   "metadata": {
    "scrolled": true
   },
   "outputs": [
    {
     "name": "stdout",
     "output_type": "stream",
     "text": [
      "shape of x (50,)\n",
      "shape of y (50,)\n"
     ]
    }
   ],
   "source": [
    "# load dataset\n",
    "x, y = load_data()\n",
    "print(\"shape of x {}\".format(x.shape))\n",
    "print(\"shape of y {}\".format(y.shape))"
   ]
  },
  {
   "cell_type": "code",
   "execution_count": 10,
   "metadata": {},
   "outputs": [],
   "source": [
    "def build_poly(x, degree):\n",
    "    \"\"\"polynomial basis functions for input data x, for j=0 up to j=degree.\"\"\"\n",
    "    # ***************************************************\n",
    "    # INSERT YOUR CODE HERE\n",
    "    # polynomial basis function: TODO\n",
    "    # this function should return the matrix formed\n",
    "    # by applying the polynomial basis to the input data\n",
    "    # **************************************************\n",
    "    tx = np.ones((x.size, degree+1))\n",
    "    \n",
    "    for i in range(degree):\n",
    "        tx[:,i+1] = np.power(x, i+1)\n",
    "    \n",
    "    return tx"
   ]
  },
  {
   "cell_type": "markdown",
   "metadata": {},
   "source": [
    "Let us play with polynomial regression. Note that we will use your implemented function `compute_mse`. Please copy and paste your implementation from exercise02."
   ]
  },
  {
   "cell_type": "code",
   "execution_count": 11,
   "metadata": {
    "collapsed": true
   },
   "outputs": [],
   "source": [
<<<<<<< HEAD
    "from costs import compute_loss\n",
=======
>>>>>>> 67f0d369586a9be5e6785948a72bc440ecbfba5d
    "from plots import *\n",
    "\n",
    "def polynomial_regression():\n",
    "    \"\"\"Constructing the polynomial basis function expansion of the data,\n",
    "       and then running least squares regression.\"\"\"\n",
    "    # define parameters\n",
    "    degrees = [1, 3, 7, 12]\n",
    "    \n",
    "    # define the structure of the figure\n",
    "    num_row = 2\n",
    "    num_col = 2\n",
    "    f, axs = plt.subplots(num_row, num_col)\n",
    "\n",
    "    for ind, degree in enumerate(degrees):\n",
    "        # ***************************************************\n",
    "        # INSERT YOUR CODE HERE\n",
    "        # form the data to do polynomial regression.: TODO\n",
    "        # ***************************************************\n",
    "        tx = build_poly(x, degree)\n",
    "       \n",
    "        \n",
    "        # ***************************************************\n",
    "        # INSERT YOUR CODE HERE\n",
    "        # least square and calculate RMSE: TODO\n",
    "        # ***************************************************\n",
    "        mse, weights = least_squares(y, tx)\n",
    "        rmse = np.sqrt(2*mse)\n",
    "\n",
    "        print(\"Processing {i}th experiment, degree={d}, rmse={loss}\".format(\n",
    "              i=ind + 1, d=degree, loss=rmse))\n",
    "        # plot fit\n",
    "        plot_fitted_curve(\n",
    "            y, x, weights, degree, axs[ind // num_col][ind % num_col])\n",
    "    plt.tight_layout()\n",
    "    plt.savefig(\"visualize_polynomial_regression\")\n",
    "    plt.show()"
   ]
  },
  {
   "cell_type": "markdown",
   "metadata": {},
   "source": [
    "Run polynomial regression"
   ]
  },
  {
   "cell_type": "code",
   "execution_count": 12,
   "metadata": {},
   "outputs": [
    {
     "name": "stdout",
     "output_type": "stream",
     "text": [
      "Processing 1th experiment, degree=1, rmse=0.47187607963421874\n",
      "Processing 2th experiment, degree=3, rmse=0.25858277667737467\n",
      "Processing 3th experiment, degree=7, rmse=0.2496587036090771\n",
      "Processing 4th experiment, degree=12, rmse=0.9299494097866373\n"
     ]
    },
    {
     "data": {
      "image/png": "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\n",
      "text/plain": [
       "<Figure size 432x288 with 4 Axes>"
      ]
     },
     "metadata": {
      "needs_background": "light"
     },
     "output_type": "display_data"
    }
   ],
   "source": [
    "polynomial_regression()"
   ]
  },
  {
   "cell_type": "markdown",
   "metadata": {},
   "source": [
    "# 2 Evaluating model predication performance\n",
    "\n",
    "\n",
    "Let us show the train and test splits for various polynomial degrees. First of all, please fill in the function `split_data()`"
   ]
  },
  {
   "cell_type": "code",
   "execution_count": 16,
   "metadata": {
    "collapsed": true
   },
   "outputs": [],
   "source": [
    "def split_data(x, y, ratio, seed=1):\n",
    "    \"\"\"\n",
    "    split the dataset based on the split ratio. If ratio is 0.8 \n",
    "    you will have 80% of your data set dedicated to training \n",
    "    and the rest dedicated to testing\n",
    "    \"\"\"\n",
    "    # set seed\n",
    "    np.random.seed(seed)\n",
    "    # ***************************************************\n",
    "    # INSERT YOUR CODE HERE\n",
    "    # split the data based on the given ratio: TODO\n",
    "    # ***************************************************\n",
    "    \n",
    "    indices = np.random.permutation(x.size)\n",
    "    train_size = int(np.floor(ratio*x.size))\n",
    "    train_indices = indices[:train_size]\n",
    "    test_indices = indices[train_size:]\n",
    "    \n",
    "    x_train, y_train = x[train_indices], y[train_indices]\n",
    "    x_test, y_test = x[test_indices], y[test_indices]  \n",
    "    \n",
    "    return x_train, y_train, x_test, y_test\n",
    "    "
   ]
  },
  {
   "cell_type": "markdown",
   "metadata": {},
   "source": [
    "Then, test your `split_data` function below."
   ]
  },
  {
   "cell_type": "code",
   "execution_count": 21,
   "metadata": {
    "collapsed": true
   },
   "outputs": [],
   "source": [
    "def train_test_split_demo(x, y, degree, ratio, seed):\n",
    "    \"\"\"polynomial regression with different split ratios and different degrees.\"\"\"\n",
    "    # ***************************************************\n",
    "    # INSERT YOUR CODE HERE\n",
    "    # split the data, and return train and test data: TODO\n",
    "    # ***************************************************\n",
    "    x_tr, y_tr, x_te, y_te = split_data(x, y, ratio)\n",
    "    \n",
    "    # ***************************************************\n",
    "    # INSERT YOUR CODE HERE\n",
    "    # form train and test data with polynomial basis function: TODO\n",
    "    # ***************************************************\n",
    "    tx_tr = build_poly(x_tr, degree)\n",
    "    tx_te = build_poly(x_te, degree)\n",
    "    \n",
    "    # ***************************************************\n",
    "    # INSERT YOUR CODE HERE\n",
    "    # calcualte weight through least square.: TODO\n",
    "    # ***************************************************\n",
    "    loss_tr, weights = least_squares(y_tr, tx_tr)\n",
    "    \n",
    "    \n",
    "    # ***************************************************\n",
    "    # INSERT YOUR CODE HERE\n",
    "    # calculate RMSE for train and test data,\n",
    "    # and store them in rmse_tr and rmse_te respectively: TODO\n",
    "    # ***************************************************\n",
    "    rmse_tr = np.sqrt(2 * loss_tr)\n",
    "    rmse_te = np.sqrt(2 * compute_loss(y_te, tx_te, weights))\n",
    "    \n",
    "    \n",
    "    print(\"proportion={p}, degree={d}, Training RMSE={tr:.3f}, Testing RMSE={te:.3f}\".format(\n",
    "          p=ratio, d=degree, tr=rmse_tr, te=rmse_te))\n"
   ]
  },
  {
   "cell_type": "code",
   "execution_count": 22,
   "metadata": {
    "collapsed": true
   },
   "outputs": [
    {
     "name": "stdout",
     "output_type": "stream",
     "text": [
      "proportion=0.9, degree=1, Training RMSE=0.455, Testing RMSE=0.621\n",
      "proportion=0.9, degree=3, Training RMSE=0.264, Testing RMSE=0.214\n",
      "proportion=0.9, degree=7, Training RMSE=0.257, Testing RMSE=0.189\n",
      "proportion=0.9, degree=12, Training RMSE=0.860, Testing RMSE=0.892\n",
      "proportion=0.5, degree=1, Training RMSE=0.400, Testing RMSE=0.553\n",
      "proportion=0.5, degree=3, Training RMSE=0.237, Testing RMSE=0.306\n",
      "proportion=0.5, degree=7, Training RMSE=0.218, Testing RMSE=0.336\n",
      "proportion=0.5, degree=12, Training RMSE=0.652, Testing RMSE=0.811\n",
      "proportion=0.1, degree=1, Training RMSE=0.453, Testing RMSE=0.748\n",
      "proportion=0.1, degree=3, Training RMSE=0.111, Testing RMSE=0.674\n",
      "proportion=0.1, degree=7, Training RMSE=0.153, Testing RMSE=1.484\n",
      "proportion=0.1, degree=12, Training RMSE=0.999, Testing RMSE=51.954\n"
     ]
    }
   ],
   "source": [
    "seed = 6\n",
    "degrees = [1, 3, 7, 12]\n",
    "split_ratios = [0.9, 0.5, 0.1]\n",
    "\n",
    "for split_ratio in split_ratios:\n",
    "    for degree in degrees:\n",
    "        train_test_split_demo(x, y, degree, split_ratio, seed)"
   ]
  },
  {
   "cell_type": "markdown",
   "metadata": {},
   "source": [
    "# 3 Ridge Regression\n",
    "Please fill in the function below."
   ]
  },
  {
   "cell_type": "code",
   "execution_count": 29,
   "metadata": {
    "collapsed": true
   },
   "outputs": [],
   "source": [
    "def ridge_regression(y, tx, lambda_):\n",
    "    \"\"\"implement ridge regression.\"\"\"\n",
    "    # ***************************************************\n",
    "    # INSERT YOUR CODE HERE\n",
    "    # ridge regression: TODO\n",
    "    # ***************************************************\n",
    "    N, M = tx.shape\n",
    "    w = np.linalg.inv(tx.T @ tx + lambda_*(2*N) * np.identity(M)) @ (tx.T @ y)\n",
    "    \n",
    "    return w"
   ]
  },
  {
   "cell_type": "code",
   "execution_count": 35,
   "metadata": {
    "collapsed": true
   },
   "outputs": [],
   "source": [
    "def ridge_regression_demo(x, y, degree, ratio, seed):\n",
    "    \"\"\"ridge regression demo.\"\"\"\n",
    "    # define parameter\n",
    "    lambdas = np.logspace(-5, 0, 15)\n",
    "    # ***************************************************\n",
    "    # INSERT YOUR CODE HERE\n",
    "    # split the data, and return train and test data: TODO\n",
    "    # ***************************************************\n",
    "    x_tr, y_tr, x_te, y_te = split_data(x, y, ratio)\n",
    "    \n",
    "    # ***************************************************\n",
    "    # INSERT YOUR CODE HERE\n",
    "    # form train and test data with polynomial basis function: TODO\n",
    "    # ***************************************************\n",
    "    tx_tr = build_poly(x_tr, degree)\n",
    "    tx_te = build_poly(x_te, degree)\n",
    "\n",
    "    rmse_tr = []\n",
    "    rmse_te = []\n",
    "    for ind, lambda_ in enumerate(lambdas):\n",
    "        # ***************************************************\n",
    "        # INSERT YOUR CODE HERE\n",
    "        # ridge regression with a given lambda\n",
    "        # ***************************************************\n",
    "        weights = ridge_regression(y_tr, tx_tr, lambda_)\n",
    "        \n",
    "        rmse_tr.append(np.sqrt(2 * compute_loss(y_tr, tx_tr, weights)))\n",
    "        rmse_te.append(np.sqrt(2 * compute_loss(y_te, tx_te, weights)))\n",
    "        \n",
    "        print(\"proportion={p}, degree={d}, lambda={l:.3f}, Training RMSE={tr:.3f}, Testing RMSE={te:.3f}\".format(\n",
    "               p=ratio, d=degree, l=lambda_, tr=rmse_tr[ind], te=rmse_te[ind]))\n",
    "        \n",
    "    # Plot the obtained results\n",
    "    plot_train_test(rmse_tr, rmse_te, lambdas, degree)\n"
   ]
  },
  {
   "cell_type": "code",
   "execution_count": 36,
   "metadata": {
    "collapsed": true
   },
   "outputs": [
    {
     "name": "stdout",
     "output_type": "stream",
     "text": [
      "proportion=0.5, degree=7, lambda=0.000, Training RMSE=0.220, Testing RMSE=0.319\n",
      "proportion=0.5, degree=7, lambda=0.000, Training RMSE=0.222, Testing RMSE=0.319\n",
      "proportion=0.5, degree=7, lambda=0.000, Training RMSE=0.225, Testing RMSE=0.322\n",
      "proportion=0.5, degree=7, lambda=0.000, Training RMSE=0.226, Testing RMSE=0.325\n",
      "proportion=0.5, degree=7, lambda=0.000, Training RMSE=0.227, Testing RMSE=0.327\n",
      "proportion=0.5, degree=7, lambda=0.001, Training RMSE=0.228, Testing RMSE=0.329\n",
      "proportion=0.5, degree=7, lambda=0.001, Training RMSE=0.228, Testing RMSE=0.329\n",
      "proportion=0.5, degree=7, lambda=0.003, Training RMSE=0.229, Testing RMSE=0.327\n",
      "proportion=0.5, degree=7, lambda=0.007, Training RMSE=0.229, Testing RMSE=0.319\n",
      "proportion=0.5, degree=7, lambda=0.016, Training RMSE=0.232, Testing RMSE=0.302\n",
      "proportion=0.5, degree=7, lambda=0.037, Training RMSE=0.239, Testing RMSE=0.279\n",
      "proportion=0.5, degree=7, lambda=0.085, Training RMSE=0.259, Testing RMSE=0.266\n",
      "proportion=0.5, degree=7, lambda=0.193, Training RMSE=0.297, Testing RMSE=0.294\n",
      "proportion=0.5, degree=7, lambda=0.439, Training RMSE=0.342, Testing RMSE=0.344\n",
      "proportion=0.5, degree=7, lambda=1.000, Training RMSE=0.380, Testing RMSE=0.374\n"
     ]
    },
    {
     "data": {
      "image/png": "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\n",
      "text/plain": [
       "<Figure size 432x288 with 1 Axes>"
      ]
     },
     "metadata": {
      "needs_background": "light"
     },
     "output_type": "display_data"
    }
   ],
   "source": [
    "seed = 56\n",
    "degree = 7\n",
    "split_ratio = 0.5\n",
    "ridge_regression_demo(x, y, degree, split_ratio, seed)"
   ]
  },
  {
   "cell_type": "code",
   "execution_count": null,
   "metadata": {},
   "outputs": [],
   "source": []
  }
 ],
 "metadata": {
  "anaconda-cloud": {},
  "kernelspec": {
   "display_name": "Python 3",
   "language": "python",
   "name": "python3"
  },
  "language_info": {
   "codemirror_mode": {
    "name": "ipython",
    "version": 3
   },
   "file_extension": ".py",
   "mimetype": "text/x-python",
   "name": "python",
   "nbconvert_exporter": "python",
   "pygments_lexer": "ipython3",
   "version": "3.6.6"
  }
 },
 "nbformat": 4,
 "nbformat_minor": 2
}
